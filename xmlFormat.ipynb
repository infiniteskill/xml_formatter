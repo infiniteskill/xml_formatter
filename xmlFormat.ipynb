{
 "cells": [
  {
   "cell_type": "code",
   "execution_count": 2,
   "metadata": {},
   "outputs": [
    {
     "name": "stdout",
     "output_type": "stream",
     "text": [
      "Formatted xml is: \n",
      "\n",
      "<company>\n",
      "  <name>Raykor Technologies PVT. Ltd.</name>\n",
      "<employees>\n",
      "    <employee id=\"1\">\n",
      "      <name>ABC PQR</name>\n",
      "    <address>\n",
      "        <line1>M G Road</line1>\n",
      "      <line2>Baner</line2>\n",
      "      <state>Maharashtra</state>\n",
      "      <city>Pune</city>\n",
      "      </address>\n",
      "    <phones>\n",
      "        <mobile>9876543210</mobile>\n",
      "      <landline>0209876543</landline>\n",
      "      </phones>\n",
      "    <education>\n",
      "        <degree>\n",
      "          <college>\n",
      "            <name>College of engineering</name>\n",
      "          <address>\n",
      "              <line1>M G Road</line1>\n",
      "            <line2>Baner</line2>\n",
      "            <state>Maharashtra</state>\n",
      "            <city>Pune</city>\n",
      "            </address>\n",
      "          </college>\n",
      "        </degree>\n",
      "      </education>\n",
      "    </employee>\n",
      "  </employees>\n",
      "</company>\n"
     ]
    }
   ],
   "source": [
    "from xml.etree import ElementTree\n",
    "\n",
    "def indent(elem, level=0):\n",
    "    i = \"\\n\" + level*\"  \"\n",
    "    j = \"\\n\" + (level-1)*\"  \"\n",
    "    if len(elem):\n",
    "        if not elem.text or not elem.text.strip():\n",
    "            elem.text = i + \"  \"\n",
    "        if not elem.tail or not elem.tail.strip():\n",
    "            elem.tail = i\n",
    "        for subelem in elem:\n",
    "            indent(subelem, level+1)\n",
    "        if not elem.tail or not elem.tail.strip():\n",
    "            elem.tail = j\n",
    "    else:\n",
    "        if level and (not elem.tail or not elem.tail.strip()):\n",
    "            elem.tail = j\n",
    "    return elem        \n",
    "\n",
    "root = ElementTree.parse('unformatted.xml').getroot()\n",
    "tree=indent(root)\n",
    "print(\"Formatted xml is: \\n\")\n",
    "ElementTree.dump(tree)\n",
    "\n",
    "\n",
    "\n"
   ]
  },
  {
   "cell_type": "code",
   "execution_count": 3,
   "metadata": {},
   "outputs": [],
   "source": [
    "out=ElementTree.tostring(tree)"
   ]
  },
  {
   "cell_type": "code",
   "execution_count": 4,
   "metadata": {},
   "outputs": [],
   "source": [
    "with open(\"output.xml\",'wb') as f:\n",
    "    f.write(out)\n",
    "    f.close()"
   ]
  },
  {
   "cell_type": "code",
   "execution_count": null,
   "metadata": {},
   "outputs": [],
   "source": []
  }
 ],
 "metadata": {
  "kernelspec": {
   "display_name": "Python 3",
   "language": "python",
   "name": "python3"
  },
  "language_info": {
   "codemirror_mode": {
    "name": "ipython",
    "version": 3
   },
   "file_extension": ".py",
   "mimetype": "text/x-python",
   "name": "python",
   "nbconvert_exporter": "python",
   "pygments_lexer": "ipython3",
   "version": "3.7.4"
  }
 },
 "nbformat": 4,
 "nbformat_minor": 2
}
